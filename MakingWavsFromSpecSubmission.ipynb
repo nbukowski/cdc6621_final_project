{
 "cells": [
  {
   "cell_type": "markdown",
   "id": "4c6cb774",
   "metadata": {},
   "source": [
    "Spectrogram code extracted from: https://github.com/vijay033/Noise-Suppression-Auto-Encoder/blob/master/ProcessWav.ipynb"
   ]
  },
  {
   "cell_type": "code",
   "execution_count": 1,
   "id": "bd396173",
   "metadata": {},
   "outputs": [
    {
     "name": "stderr",
     "output_type": "stream",
     "text": [
      "2024-05-08 18:24:16.562569: I tensorflow/core/util/port.cc:110] oneDNN custom operations are on. You may see slightly different numerical results due to floating-point round-off errors from different computation orders. To turn them off, set the environment variable `TF_ENABLE_ONEDNN_OPTS=0`.\n",
      "2024-05-08 18:24:16.604257: I tensorflow/core/platform/cpu_feature_guard.cc:183] This TensorFlow binary is optimized to use available CPU instructions in performance-critical operations.\n",
      "To enable the following instructions: SSE3 SSE4.1 SSE4.2 AVX, in other operations, rebuild TensorFlow with the appropriate compiler flags.\n"
     ]
    }
   ],
   "source": [
    "# TensorFlow Keras\n",
    "import tensorflow as tf\n",
    "from tensorflow import keras\n",
    "from tensorflow.keras import layers\n",
    "from keras.layers import Input, Conv2D, MaxPooling2D, Dropout, concatenate, Conv2DTranspose, Cropping2D, ZeroPadding2D\n",
    "from keras.optimizers import RMSprop\n",
    "from tensorflow.keras.callbacks import ReduceLROnPlateau\n",
    "from tensorflow.keras import backend as K\n",
    "from tensorflow.keras.models import Model\n",
    "\n",
    "# Other\n",
    "import os\n",
    "import glob\n",
    "import math\n",
    "import random\n",
    "import numpy as np\n",
    "import matplotlib.pyplot as plt\n",
    "from tqdm import tqdm\n",
    "from scipy.io import wavfile\n",
    "from IPython.display import Audio"
   ]
  },
  {
   "cell_type": "code",
   "execution_count": 2,
   "id": "e9fd8b44",
   "metadata": {},
   "outputs": [
    {
     "data": {
      "text/plain": [
       "[PhysicalDevice(name='/physical_device:GPU:0', device_type='GPU')]"
      ]
     },
     "execution_count": 2,
     "metadata": {},
     "output_type": "execute_result"
    }
   ],
   "source": [
    "tf.config.list_physical_devices('GPU')"
   ]
  },
  {
   "cell_type": "markdown",
   "id": "c526d1bf",
   "metadata": {},
   "source": [
    "## Spectrogram Functions"
   ]
  },
  {
   "cell_type": "code",
   "execution_count": 3,
   "id": "69019e68",
   "metadata": {},
   "outputs": [],
   "source": [
    "def amplifyMagnitudeByLog(d):\n",
    "    return 188.301 * math.log10(d + 1)\n",
    "\n",
    "def weakenAmplifiedMagnitude(d):\n",
    "    return math.pow(10, d/188.301)-1\n",
    "\n",
    "def recoverLinearScale(rgbArray, magnitudeMin, magnitudeMax, phaseMin, phaseMax):\n",
    "    width = rgbArray.shape[1]\n",
    "    height = rgbArray.shape[0]\n",
    "    # print(phaseMax,phaseMin)\n",
    "    magnitudeVals = rgbArray[:,:,0].astype(float) + rgbArray[:,:,1].astype(float)\n",
    "    phaseVals = rgbArray[:,:,2].astype(float)\n",
    "    phaseRange = phaseMax - phaseMin\n",
    "    magnitudeRange = magnitudeMax - magnitudeMin\n",
    "    \n",
    "    for w in range(width):\n",
    "        for h in range(height):\n",
    "            phaseVals[h,w] = (phaseVals[h,w] / 255 * phaseRange) + phaseMin\n",
    "            magnitudeVals[h,w] = weakenAmplifiedMagnitude(magnitudeVals[h,w])\n",
    "            magnitudeVals[h,w] = (magnitudeVals[h,w] / (255*2) * magnitudeRange) + magnitudeMin\n",
    "    return magnitudeVals, phaseVals\n",
    "\n",
    "def recoverSignalFromSpectrogram(numpyarray):\n",
    "    data = np.array(numpyarray, dtype='uint8')\n",
    "    width = data.shape[1]\n",
    "    height = data.shape[0]\n",
    "\n",
    "    magnitudeVals, phaseVals = recoverLinearScale(data, magnitudeMin, magnitudeMax, phaseMin, phaseMax)\n",
    "        \n",
    "    recovered = np.zeros(WINDOW_LENGTH * width // 2 + WINDOW_STEP, dtype=np.int16)\n",
    "    recovered = np.array(recovered,dtype=np.int16)\n",
    "    \n",
    "    for w in range(width):\n",
    "        toInverse = np.zeros(height, dtype=np.complex_)\n",
    "        for h in range(height):\n",
    "            magnitude = magnitudeVals[height-h-1,w]\n",
    "            phase = phaseVals[height-h-1,w]\n",
    "            toInverse[h] = magnitude * math.cos(phase) + (1j * magnitude * math.sin(phase))\n",
    "        signal = np.fft.irfft(toInverse)\n",
    "        recovered[w*WINDOW_STEP:w*WINDOW_STEP + WINDOW_LENGTH] += signal[:WINDOW_LENGTH].astype(np.int16)\n",
    "    return recovered\n",
    "\n",
    "\n",
    "# Use these initializations for recovery from spectrogram\n",
    "FFT_LENGTH = 512\n",
    "WINDOW_LENGTH = 512\n",
    "WINDOW_STEP = int(WINDOW_LENGTH / 2)\n",
    "phaseMax = 3.141592653589793 \n",
    "phaseMin = -3.141592653589793\n",
    "magnitudeMax = 2211683.973249525\n",
    "magnitudeMin = 0.0\n",
    "rate = 16000"
   ]
  },
  {
   "cell_type": "markdown",
   "id": "71744606",
   "metadata": {},
   "source": [
    "## Data Loading"
   ]
  },
  {
   "cell_type": "code",
   "execution_count": 4,
   "id": "2795bd53",
   "metadata": {},
   "outputs": [],
   "source": [
    "files_train = glob.glob(\"/data/csc6621/24-team-c/dataset/LibriNoise_Train_Test_NPY/mat_train/*.npy\")\n",
    "files_train_y = glob.glob(\"/data/csc6621/24-team-c/dataset/LibriNoise_Train_Test_NPY/mat_ytrain/*.npy\")\n",
    "files_test = glob.glob(\"/data/csc6621/24-team-c/dataset/LibriNoise_Train_Test_NPY/mat_test/*.npy\")\n",
    "files_test_y = glob.glob(\"/data/csc6621/24-team-c/dataset/LibriNoise_Train_Test_NPY/mat_ytest/*.npy\")"
   ]
  },
  {
   "cell_type": "code",
   "execution_count": 5,
   "id": "355a3dd2",
   "metadata": {},
   "outputs": [],
   "source": [
    "import numpy as np\n",
    "import math\n",
    "import os\n",
    "from scipy.io.wavfile import write\n",
    "\n",
    "# Use these initializations for recovery from spectrogram\n",
    "FFT_LENGTH = 512\n",
    "WINDOW_LENGTH = 512\n",
    "WINDOW_STEP = int(WINDOW_LENGTH / 2)\n",
    "phaseMax = 3.141592653589793 \n",
    "phaseMin = -3.141592653589793\n",
    "magnitudeMax = 2211683.973249525\n",
    "magnitudeMin = 0.0\n",
    "rate = 16000\n",
    "def recoverSignalFromSpectrogram(numpyarray):\n",
    "    data = np.array(numpyarray, dtype='uint8')\n",
    "    width = data.shape[1]\n",
    "    height = data.shape[0]\n",
    "\n",
    "    magnitudeVals, phaseVals = recoverLinearScale(data, magnitudeMin, magnitudeMax, phaseMin, phaseMax)\n",
    "        \n",
    "    recovered = np.zeros(WINDOW_LENGTH * width // 2 + WINDOW_STEP, dtype=np.int16)\n",
    "    recovered = np.array(recovered,dtype=np.int16)\n",
    "    \n",
    "    for w in range(width):\n",
    "        toInverse = np.zeros(height, dtype=np.complex_)\n",
    "        for h in range(height):\n",
    "            magnitude = magnitudeVals[height-h-1,w]\n",
    "            phase = phaseVals[height-h-1,w]\n",
    "            toInverse[h] = magnitude * math.cos(phase) + (1j * magnitude * math.sin(phase))\n",
    "        signal = np.fft.irfft(toInverse)\n",
    "        recovered[w*WINDOW_STEP:w*WINDOW_STEP + WINDOW_LENGTH] += signal[:WINDOW_LENGTH].astype(np.int16)\n",
    "    return recovered\n",
    "\n",
    "def save_as_wav(audio_data, file_path, folder):\n",
    "    # Ensure the \"imageWavs\" directory exists\n",
    "    os.makedirs(f\"/home/gravesr/AudioFiltering/WavesFromSpecs/{folder}\", exist_ok=True)\n",
    "    # Extract file name\n",
    "    file_name = os.path.basename(file_path)\n",
    "    # Remove the \".npy\" extension\n",
    "    file_name = os.path.splitext(file_name)[0]\n",
    "    # Construct the WAV file path\n",
    "    wav_file_path = os.path.join(f\"/home/gravesr/AudioFiltering/WavesFromSpecs/{folder}\", file_name + \".wav\")\n",
    "    # Sample rate (you need to replace this with the actual sample rate of your audio)\n",
    "    sample_rate = rate  # Example sample rate\n",
    "    # Save the audio data as a WAV file\n",
    "    write(wav_file_path, sample_rate, audio_data)\n",
    "\n",
    "for file_path in files_test:\n",
    "    spectrogram = np.load(file_path)\n",
    "    audio = recoverSignalFromSpectrogram(spectrogram)\n",
    "    save_as_wav(audio, file_path, \"test\")\n",
    "for file_path in files_test_y:\n",
    "    spectrogram = np.load(file_path)\n",
    "    audio = recoverSignalFromSpectrogram(spectrogram)\n",
    "    save_as_wav(audio, file_path, \"y_test\")\n",
    "    \n",
    "for file_path in files_train:\n",
    "    spectrogram = np.load(file_path)\n",
    "    audio = recoverSignalFromSpectrogram(spectrogram)\n",
    "    save_as_wav(audio, file_path, \"train\")\n",
    "for file_path in files_train_y:\n",
    "    spectrogram = np.load(file_path)\n",
    "    audio = recoverSignalFromSpectrogram(spectrogram)\n",
    "    save_as_wav(audio, file_path, \"y_train\")"
   ]
  },
  {
   "cell_type": "markdown",
   "id": "abe4fe2a",
   "metadata": {},
   "source": [
    "Lets try to make datasets like we did for our original wav splits to make sure it doenst fail."
   ]
  },
  {
   "cell_type": "code",
   "execution_count": 6,
   "id": "0744108d",
   "metadata": {},
   "outputs": [
    {
     "name": "stderr",
     "output_type": "stream",
     "text": [
      "2024-05-08 18:24:18.959872: I tensorflow/core/common_runtime/gpu/gpu_device.cc:1638] Created device /job:localhost/replica:0/task:0/device:GPU:0 with 716 MB memory:  -> device: 0, name: Tesla T4, pci bus id: 0000:61:00.0, compute capability: 7.5\n"
     ]
    }
   ],
   "source": [
    "# Function to read WAV files and create datasets\n",
    "def create_dataset(clean_paths, noisy_paths, batch_size=64, shuffle=True, audio_length=16000):\n",
    "    def load_wav(file_path):\n",
    "        # Read in a file\n",
    "        audio = tf.io.read_file(file_path)\n",
    "        # Decode to tensor\n",
    "        audio, _ = tf.audio.decode_wav(audio, desired_channels=1)\n",
    "        # Make it mono\n",
    "        audio = tf.squeeze(audio, axis=-1)\n",
    "        # Pad it to 16128\n",
    "        # For some reason this step needs to be VERY explicit\n",
    "        audio = tf.pad(audio, paddings=[[0, audio_length - tf.shape(audio)[0]]], mode='CONSTANT', constant_values=0)\n",
    "        return audio \n",
    "    # Get a list of paths pointing to individual samples wav files\n",
    "    clean_dataset = tf.data.Dataset.from_tensor_slices(clean_paths)\n",
    "    # replace those paths with the audio actually stored there\n",
    "    clean_dataset = clean_dataset.map(load_wav)\n",
    "    # Get a list of paths pointing to individual samples wav files\n",
    "    noisy_dataset = tf.data.Dataset.from_tensor_slices(noisy_paths)\n",
    "    # replace those paths with the audio actually stored there\n",
    "    noisy_dataset = noisy_dataset.map(load_wav)\n",
    "    # Zip the clean and noisy datasets together\n",
    "    dataset = tf.data.Dataset.zip((noisy_dataset, clean_dataset))\n",
    "    # Shuffly the data so all the same samples arent stuck together\n",
    "    if shuffle:\n",
    "        dataset = dataset.shuffle(100)\n",
    "    # Batch the data and drop the remainders so every batch is the same\n",
    "    dataset = dataset.batch(batch_size, drop_remainder=True)\n",
    "    return dataset\n",
    "\n",
    "# Function to get the length of audio files\n",
    "def get_audio_length(paths):\n",
    "    audio_lengths = []\n",
    "    for path in tqdm(paths):\n",
    "        audio = tf.io.read_file(path)\n",
    "        audio, _ = tf.audio.decode_wav(audio, desired_channels=1)\n",
    "        audio_lengths.append(audio.shape[0])\n",
    "    return audio_lengths\n",
    "# Paths to train and test folders\n",
    "train_clean_paths = glob.glob('WavesFromSpecs/y_train/*.wav')\n",
    "train_noisy_paths = glob.glob('WavesFromSpecs/train/*.wav')\n",
    "test_clean_paths = glob.glob('WavesFromSpecs/y_test/*.wav')\n",
    "test_noisy_paths = glob.glob('WavesFromSpecs/test/*.wav')\n",
    "\n",
    "# Create train and test datasets\n",
    "train_dataset = create_dataset(train_clean_paths, train_noisy_paths, batch_size=16, audio_length=rate) # 16 one second sample batches\n",
    "test_dataset = create_dataset(test_clean_paths, test_noisy_paths, batch_size=16, audio_length=rate) # 16 one second sample batches"
   ]
  },
  {
   "cell_type": "markdown",
   "id": "bf8c98a9",
   "metadata": {},
   "source": [
    "Lets examine one of the decoded wavs to make sure it worked"
   ]
  },
  {
   "cell_type": "code",
   "execution_count": 7,
   "id": "abb8ceb4",
   "metadata": {},
   "outputs": [
    {
     "name": "stdout",
     "output_type": "stream",
     "text": [
      "Sample Rate: tf.Tensor(16000, shape=(), dtype=int32)\n",
      "Audio Shape: (16128, 1)\n"
     ]
    }
   ],
   "source": [
    "audio, sample_rate = tf.audio.decode_wav(tf.io.read_file(\"WavesFromSpecs/test/1034-121119-0049.wav\"))\n",
    "\n",
    "print(\"Sample Rate:\", sample_rate)\n",
    "print(\"Audio Shape:\", audio.shape)"
   ]
  },
  {
   "cell_type": "code",
   "execution_count": 8,
   "id": "1527c6dc",
   "metadata": {
    "scrolled": true
   },
   "outputs": [
    {
     "data": {
      "text/plain": [
       "[<matplotlib.lines.Line2D at 0x7f32c8d5bc10>]"
      ]
     },
     "execution_count": 8,
     "metadata": {},
     "output_type": "execute_result"
    },
    {
     "data": {
      "image/png": "[encoded data removed]",
      "text/plain": [
       "<Figure size 640x480 with 1 Axes>"
      ]
     },
     "metadata": {},
     "output_type": "display_data"
    }
   ],
   "source": [
    "plt.plot(audio[15990:])"
   ]
  },
  {
   "cell_type": "markdown",
   "id": "12997ae8",
   "metadata": {},
   "source": [
    "The last 128 of the audiofiles is just dead noise brought about by the recovery program."
   ]
  },
  {
   "cell_type": "code",
   "execution_count": null,
   "id": "19446a20",
   "metadata": {},
   "outputs": [],
   "source": []
  }
 ],
 "metadata": {
  "kernelspec": {
   "display_name": "Python 3 (ipykernel)",
   "language": "python",
   "name": "python3"
  },
  "language_info": {
   "codemirror_mode": {
    "name": "ipython",
    "version": 3
   },
   "file_extension": ".py",
   "mimetype": "text/x-python",
   "name": "python",
   "nbconvert_exporter": "python",
   "pygments_lexer": "ipython3",
   "version": "3.10.6"
  }
 },
 "nbformat": 4,
 "nbformat_minor": 5
}
