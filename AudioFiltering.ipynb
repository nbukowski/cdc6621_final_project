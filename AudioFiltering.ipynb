{
 "cells": [
  {
   "cell_type": "code",
   "execution_count": 1,
   "id": "bb60a22ea748c1b3",
   "metadata": {
    "ExecuteTime": {
     "end_time": "2024-04-22T17:41:13.788415Z",
     "start_time": "2024-04-22T17:41:11.977936Z"
    },
    "collapsed": false
   },
   "outputs": [
    {
     "name": "stderr",
     "output_type": "stream",
     "text": [
      "/home/gravesr/.virtualenvs/AudioFilteringKeras/lib/python3.12/site-packages/pydub/utils.py:170: RuntimeWarning: Couldn't find ffmpeg or avconv - defaulting to ffmpeg, but may not work\n",
      "  warn(\"Couldn't find ffmpeg or avconv - defaulting to ffmpeg, but may not work\", RuntimeWarning)\n",
      "2024-04-22 12:41:12.431147: I tensorflow/core/util/port.cc:113] oneDNN custom operations are on. You may see slightly different numerical results due to floating-point round-off errors from different computation orders. To turn them off, set the environment variable `TF_ENABLE_ONEDNN_OPTS=0`.\n",
      "2024-04-22 12:41:12.561866: I tensorflow/core/platform/cpu_feature_guard.cc:210] This TensorFlow binary is optimized to use available CPU instructions in performance-critical operations.\n",
      "To enable the following instructions: AVX2 AVX512F AVX512_VNNI AVX512_BF16 FMA, in other operations, rebuild TensorFlow with the appropriate compiler flags.\n",
      "2024-04-22 12:41:13.127252: W tensorflow/compiler/tf2tensorrt/utils/py_utils.cc:38] TF-TRT Warning: Could not find TensorRT\n"
     ]
    }
   ],
   "source": [
    "from pydub import AudioSegment\n",
    "import os\n",
    "\n",
    "import tensorflow as tf\n",
    "import numpy as np\n",
    "\n",
    "from tqdm.notebook import tqdm\n",
    "import matplotlib.pyplot as plt\n",
    "import glob\n",
    "from tqdm import tqdm\n",
    "from tensorflow.keras.layers import Input, Conv1D, Conv1DTranspose, Concatenate\n",
    "# import IPython.display\n",
    "# import pydot"
   ]
  },
  {
   "cell_type": "code",
   "execution_count": 2,
   "id": "initial_id",
   "metadata": {
    "ExecuteTime": {
     "end_time": "2024-04-22T17:41:13.793603Z",
     "start_time": "2024-04-22T17:41:13.789627Z"
    },
    "collapsed": true,
    "jupyter": {
     "outputs_hidden": true
    }
   },
   "outputs": [],
   "source": [
    "\n",
    "# Function to split wav files into 1-second chunks padded with zeros\n",
    "def split_wav_into_chunks(input_folder, output_folder):\n",
    "    # Create output folder if it doesn't exist\n",
    "    if not os.path.exists(output_folder):\n",
    "        os.makedirs(output_folder)\n",
    "\n",
    "    # Iterate through all wav files in the input folder\n",
    "    for file_name in os.listdir(input_folder):\n",
    "        if file_name.endswith(\".wav\"):\n",
    "            file_path = os.path.join(input_folder, file_name)\n",
    "            sound = AudioSegment.from_wav(file_path)\n",
    "            \n",
    "            # Calculate the number of chunks\n",
    "            chunk_length_ms = 1000  # 1 second\n",
    "            num_chunks = len(sound) // chunk_length_ms + (1 if len(sound) % chunk_length_ms else 0)\n",
    "\n",
    "            # Split the audio into 1-second chunks padded with zeros\n",
    "            for i in range(num_chunks):\n",
    "                start_time = i * chunk_length_ms\n",
    "                end_time = (i + 1) * chunk_length_ms\n",
    "                chunk = sound[start_time:end_time]\n",
    "                \n",
    "                # Pad the last chunk with zeros if needed\n",
    "                if len(chunk) < chunk_length_ms:\n",
    "                    chunk += AudioSegment.silent(duration=chunk_length_ms - len(chunk))\n",
    "                    \n",
    "                chunk.export(os.path.join(output_folder, f\"{os.path.splitext(file_name)[0]}_chunk{i}.wav\"), format=\"wav\")\n",
    "\n"
   ]
  },
  {
   "cell_type": "markdown",
   "id": "4a9f6b62d3621df4",
   "metadata": {
    "collapsed": false
   },
   "source": [
    "Split all the data up. \n",
    "Commented out since you only need to do this once"
   ]
  },
  {
   "cell_type": "code",
   "execution_count": 3,
   "id": "6230f3129fb2a1cb",
   "metadata": {
    "ExecuteTime": {
     "end_time": "2024-04-22T17:41:13.805638Z",
     "start_time": "2024-04-22T17:41:13.794522Z"
    },
    "collapsed": false
   },
   "outputs": [],
   "source": [
    "# input_folder = \"LibriSpeechNoiseData/RawDataSplits/train\"\n",
    "# output_folder = \"DataSplits/train\"\n",
    "# split_wav_into_chunks(input_folder, output_folder)\n",
    "# input_folder = \"LibriSpeechNoiseData/RawDataSplits/test\"\n",
    "# output_folder = \"DataSplits/test\"\n",
    "# split_wav_into_chunks(input_folder, output_folder)\n",
    "# input_folder = \"LibriSpeechNoiseData/RawDataSplits/y_train\"\n",
    "# output_folder = \"DataSplits/y_train\"\n",
    "# split_wav_into_chunks(input_folder, output_folder)\n",
    "# input_folder = \"LibriSpeechNoiseData/RawDataSplits/y_test\"\n",
    "# output_folder = \"DataSplits/y_test\"\n",
    "# split_wav_into_chunks(input_folder, output_folder)"
   ]
  },
  {
   "cell_type": "markdown",
   "id": "4c25f5cde5b64eb6",
   "metadata": {
    "collapsed": false
   },
   "source": [
    "Decode one of the wav fules to get its shape"
   ]
  },
  {
   "cell_type": "code",
   "execution_count": 4,
   "id": "e362d2342700705f",
   "metadata": {
    "ExecuteTime": {
     "end_time": "2024-04-22T17:41:14.358520Z",
     "start_time": "2024-04-22T17:41:13.806705Z"
    },
    "collapsed": false
   },
   "outputs": [
    {
     "name": "stdout",
     "output_type": "stream",
     "text": [
      "Sample rate: tf.Tensor(16000, shape=(), dtype=int32)\n",
      "Audio shape: (16000, 1)\n"
     ]
    },
    {
     "name": "stderr",
     "output_type": "stream",
     "text": [
      "2024-04-22 12:41:13.942045: I external/local_xla/xla/stream_executor/cuda/cuda_executor.cc:984] could not open file to read NUMA node: /sys/bus/pci/devices/0000:01:00.0/numa_node\n",
      "Your kernel may have been built without NUMA support.\n",
      "2024-04-22 12:41:14.330968: W tensorflow/core/common_runtime/gpu/gpu_device.cc:2251] Cannot dlopen some GPU libraries. Please make sure the missing libraries mentioned above are installed properly if you would like to use GPU. Follow the guide at https://www.tensorflow.org/install/gpu for how to download and setup the required libraries for your platform.\n",
      "Skipping registering GPU devices...\n"
     ]
    }
   ],
   "source": [
    "# Decode a wav file\n",
    "audio, sample_rate = tf.audio.decode_wav(tf.io.read_file(\"DataSplits/train/19-198-0003_chunk0.wav\"))\n",
    "\n",
    "# Print the sample rate and shape of the audio tensor\n",
    "print(\"Sample rate:\", sample_rate)\n",
    "print(\"Audio shape:\", audio.shape)"
   ]
  },
  {
   "cell_type": "code",
   "execution_count": 35,
   "id": "9240ca861c43758f",
   "metadata": {
    "ExecuteTime": {
     "end_time": "2024-04-22T22:00:47.628373Z",
     "start_time": "2024-04-22T22:00:46.274265Z"
    },
    "collapsed": false
   },
   "outputs": [],
   "source": [
    "# Function to read WAV files and create datasets\n",
    "def create_dataset(clean_paths, noisy_paths, batch_size=64, shuffle=True, audio_length=16000):\n",
    "    def load_wav(file_path):\n",
    "        # Read in a file\n",
    "        audio = tf.io.read_file(file_path)\n",
    "        # Decode to tensor\n",
    "        audio, _ = tf.audio.decode_wav(audio, desired_channels=1)\n",
    "        # Make it mono\n",
    "        audio = tf.squeeze(audio, axis=-1)\n",
    "        # Pad it to 16000\n",
    "        # For some reason this step needs to be VERY explicit\n",
    "        audio = tf.pad(audio, paddings=[[0, audio_length - tf.shape(audio)[0]]], mode='CONSTANT', constant_values=0)\n",
    "        return audio \n",
    "    # Get a list of paths pointing to individual samples wav files\n",
    "    clean_dataset = tf.data.Dataset.from_tensor_slices(clean_paths)\n",
    "    # replace those paths with the audio actually stored there\n",
    "    clean_dataset = clean_dataset.map(load_wav)\n",
    "    # Get a list of paths pointing to individual samples wav files\n",
    "    noisy_dataset = tf.data.Dataset.from_tensor_slices(noisy_paths)\n",
    "    # replace those paths with the audio actually stored there\n",
    "    noisy_dataset = noisy_dataset.map(load_wav)\n",
    "    # Zip the clean and noisy datasets together\n",
    "    dataset = tf.data.Dataset.zip((noisy_dataset, clean_dataset))\n",
    "    # Shuffly the data so all the same samples arent stuck together\n",
    "    if shuffle:\n",
    "        dataset = dataset.shuffle(100)\n",
    "    # Batch the data and drop the remainders so every batch is the same\n",
    "    dataset = dataset.batch(batch_size, drop_remainder=True)\n",
    "    return dataset\n",
    "\n",
    "# Function to get the length of audio files\n",
    "def get_audio_length(paths):\n",
    "    audio_lengths = []\n",
    "    for path in tqdm(paths):\n",
    "        audio = tf.io.read_file(path)\n",
    "        audio, _ = tf.audio.decode_wav(audio, desired_channels=1)\n",
    "        audio_lengths.append(audio.shape[0])\n",
    "    return audio_lengths\n",
    "# Paths to train and test folders\n",
    "train_clean_paths = glob.glob('DataSplits/y_train/*.wav')\n",
    "train_noisy_paths = glob.glob('DataSplits/train/*.wav')\n",
    "test_clean_paths = glob.glob('DataSplits/y_test/*.wav')\n",
    "test_noisy_paths = glob.glob('DataSplits/test/*.wav')\n",
    "\n",
    "# Create train and test datasets\n",
    "train_dataset = create_dataset(train_clean_paths, train_noisy_paths, batch_size=16, audio_length=16000) # 16 one second sample batches\n",
    "test_dataset = create_dataset(test_clean_paths, test_noisy_paths, batch_size=16, audio_length=16000) # 16 one second sample batches\n"
   ]
  },
  {
   "cell_type": "code",
   "execution_count": 45,
   "id": "71a4935b4d218e68",
   "metadata": {
    "collapsed": false,
    "ExecuteTime": {
     "end_time": "2024-04-26T01:59:20.979096Z",
     "start_time": "2024-04-26T01:59:17.414663Z"
    }
   },
   "outputs": [
    {
     "name": "stderr",
     "output_type": "stream",
     "text": [
      "100%|██████████| 1810/1810 [00:03<00:00, 510.46it/s]"
     ]
    },
    {
     "name": "stdout",
     "output_type": "stream",
     "text": [
      "Test Clean Audio Lengths: [16000, 16000, 16000, 16000, 16000, 16000, 16000, 16000, 16000, 15999, 16000, 16000, 16000, 16000, 16000, 16000, 16000, 16000, 16000, 16000, 16000, 16000, 16000, 16000, 16000, 16000, 15999, 16000, 16000, 16000, 16000, 16000, 16000, 16000, 16000, 16000, 16000, 16000, 16000, 16000, 16000, 16000, 16000, 16000, 15998, 16000, 16000, 16000, 16000, 16000, 16000, 16000, 16000, 16000, 16000, 16000, 16000, 16000, 16000, 16000, 16000, 15998, 16000, 16000, 16000, 16000, 16000, 16000, 16000, 16000, 16000, 16000, 16000, 16000, 16000, 16000, 16000, 16000, 15999, 16000, 16000, 16000, 16000, 16000, 16000, 16000, 16000, 16000, 16000, 16000, 16000, 16000, 16000, 16000, 16000, 15999, 16000, 16000, 16000, 16000, 16000, 16000, 16000, 16000, 16000, 16000, 16000, 16000, 16000, 16000, 16000, 16000, 15999, 16000, 16000, 16000, 16000, 16000, 16000, 16000, 16000, 16000, 16000, 16000, 16000, 16000, 16000, 16000, 16000, 15998, 16000, 16000, 16000, 16000, 16000, 16000, 16000, 16000, 16000, 16000, 16000, 16000, 16000, 16000, 16000, 16000, 15998, 16000, 16000, 16000, 16000, 16000, 16000, 16000, 16000, 16000, 16000, 16000, 16000, 16000, 16000, 16000, 16000, 15998, 16000, 16000, 16000, 16000, 16000, 16000, 16000, 16000, 16000, 16000, 16000, 16000, 16000, 16000, 16000, 16000, 15998, 16000, 16000, 16000, 16000, 16000, 16000, 16000, 16000, 16000, 16000, 16000, 16000, 16000, 16000, 16000, 16000, 15998, 16000, 16000, 16000, 16000, 16000, 16000, 16000, 16000, 16000, 16000, 16000, 16000, 16000, 16000, 16000, 16000, 15999, 16000, 16000, 16000, 16000, 16000, 16000, 16000, 16000, 16000, 16000, 16000, 16000, 16000, 16000, 16000, 16000, 15998, 16000, 16000, 16000, 16000, 16000, 16000, 16000, 16000, 16000, 16000, 16000, 16000, 16000, 16000, 16000, 16000, 16000, 15999, 16000, 16000, 16000, 16000, 16000, 16000, 16000, 16000, 16000, 16000, 16000, 16000, 16000, 16000, 16000, 16000, 15998, 16000, 16000, 16000, 16000, 16000, 16000, 16000, 16000, 16000, 16000, 16000, 16000, 16000, 16000, 16000, 16000, 15998, 16000, 16000, 16000, 16000, 16000, 16000, 16000, 16000, 16000, 16000, 16000, 16000, 16000, 16000, 16000, 16000, 15999, 16000, 16000, 16000, 16000, 16000, 16000, 16000, 16000, 16000, 16000, 16000, 16000, 16000, 16000, 16000, 16000, 15998, 16000, 16000, 16000, 16000, 16000, 16000, 16000, 16000, 16000, 16000, 16000, 16000, 16000, 16000, 16000, 16000, 15999, 16000, 16000, 16000, 16000, 16000, 16000, 16000, 16000, 16000, 16000, 16000, 16000, 16000, 16000, 16000, 16000, 15998, 16000, 16000, 16000, 16000, 16000, 16000, 16000, 16000, 16000, 16000, 16000, 16000, 16000, 16000, 16000, 16000, 16000, 15999, 16000, 16000, 16000, 16000, 16000, 16000, 16000, 16000, 16000, 16000, 16000, 16000, 16000, 16000, 16000, 16000, 16000, 15998, 16000, 16000, 16000, 16000, 16000, 16000, 16000, 16000, 16000, 16000, 16000, 16000, 16000, 16000, 16000, 16000, 16000, 15999, 16000, 16000, 16000, 16000, 16000, 16000, 16000, 16000, 16000, 16000, 16000, 16000, 16000, 16000, 16000, 16000, 15998, 16000, 16000, 16000, 16000, 16000, 16000, 16000, 16000, 16000, 16000, 16000, 16000, 16000, 16000, 16000, 16000, 15998, 16000, 16000, 16000, 16000, 16000, 16000, 16000, 16000, 16000, 16000, 16000, 16000, 16000, 16000, 16000, 16000, 15999, 16000, 16000, 16000, 16000, 16000, 16000, 16000, 16000, 16000, 16000, 16000, 16000, 16000, 16000, 16000, 16000, 15999, 16000, 16000, 16000, 16000, 16000, 16000, 16000, 16000, 16000, 16000, 16000, 16000, 16000, 16000, 16000, 16000, 15999, 16000, 16000, 16000, 16000, 16000, 16000, 16000, 16000, 16000, 16000, 16000, 16000, 16000, 16000, 16000, 16000, 15998, 16000, 16000, 16000, 16000, 16000, 16000, 16000, 16000, 16000, 16000, 16000, 16000, 16000, 16000, 16000, 16000, 15999, 16000, 16000, 16000, 16000, 16000, 16000, 16000, 16000, 16000, 16000, 16000, 16000, 16000, 16000, 16000, 16000, 15999, 16000, 16000, 16000, 16000, 16000, 16000, 16000, 16000, 16000, 16000, 16000, 16000, 16000, 16000, 16000, 16000, 15998, 16000, 16000, 16000, 16000, 16000, 16000, 16000, 16000, 16000, 16000, 16000, 16000, 16000, 16000, 16000, 16000, 15999, 16000, 16000, 16000, 16000, 16000, 16000, 16000, 16000, 16000, 16000, 16000, 16000, 16000, 16000, 16000, 16000, 15999, 16000, 16000, 16000, 16000, 16000, 16000, 16000, 16000, 16000, 16000, 16000, 16000, 16000, 16000, 16000, 16000, 16000, 16000, 16000, 15998, 16000, 16000, 16000, 16000, 16000, 16000, 16000, 16000, 16000, 16000, 16000, 16000, 16000, 16000, 16000, 16000, 15999, 16000, 16000, 16000, 16000, 16000, 16000, 16000, 16000, 16000, 16000, 16000, 16000, 16000, 16000, 16000, 16000, 15998, 16000, 16000, 16000, 16000, 16000, 16000, 16000, 16000, 16000, 16000, 16000, 16000, 16000, 16000, 16000, 16000, 15999, 16000, 16000, 16000, 16000, 16000, 16000, 16000, 16000, 16000, 16000, 16000, 16000, 16000, 16000, 16000, 16000, 16000, 16000, 16000, 16000, 16000, 16000, 16000, 16000, 16000, 16000, 16000, 16000, 16000, 16000, 16000, 16000, 16000, 15999, 16000, 16000, 16000, 16000, 16000, 16000, 16000, 16000, 16000, 16000, 16000, 16000, 16000, 16000, 16000, 16000, 15999, 16000, 16000, 16000, 16000, 16000, 16000, 16000, 16000, 16000, 16000, 16000, 16000, 16000, 16000, 16000, 16000, 15998, 16000, 16000, 16000, 16000, 16000, 16000, 16000, 16000, 16000, 16000, 16000, 16000, 16000, 16000, 16000, 16000, 15999, 16000, 16000, 16000, 16000, 16000, 16000, 16000, 16000, 16000, 16000, 16000, 16000, 16000, 16000, 16000, 16000, 15998, 16000, 16000, 16000, 16000, 16000, 16000, 16000, 16000, 16000, 16000, 16000, 16000, 16000, 16000, 16000, 16000, 15999, 16000, 16000, 16000, 16000, 16000, 16000, 16000, 16000, 16000, 16000, 16000, 16000, 16000, 16000, 16000, 16000, 16000, 15999, 16000, 16000, 16000, 16000, 16000, 16000, 16000, 16000, 16000, 16000, 16000, 16000, 16000, 16000, 16000, 16000, 16000, 15998, 16000, 16000, 16000, 16000, 16000, 16000, 16000, 16000, 16000, 16000, 16000, 16000, 16000, 16000, 16000, 16000, 15999, 16000, 16000, 16000, 16000, 16000, 16000, 16000, 16000, 16000, 16000, 16000, 16000, 16000, 16000, 16000, 16000, 15998, 16000, 16000, 16000, 16000, 16000, 16000, 16000, 16000, 16000, 16000, 16000, 16000, 16000, 16000, 16000, 16000, 15998, 16000, 16000, 16000, 16000, 16000, 16000, 16000, 16000, 16000, 16000, 16000, 16000, 16000, 16000, 16000, 16000, 15999, 16000, 16000, 16000, 16000, 16000, 16000, 16000, 16000, 16000, 16000, 16000, 16000, 16000, 16000, 16000, 16000, 15998, 16000, 16000, 16000, 16000, 16000, 16000, 16000, 16000, 16000, 16000, 16000, 16000, 16000, 16000, 16000, 16000, 15998, 16000, 16000, 16000, 16000, 16000, 16000, 16000, 16000, 16000, 16000, 16000, 16000, 16000, 16000, 16000, 16000, 15998, 16000, 16000, 16000, 16000, 16000, 16000, 16000, 16000, 16000, 16000, 16000, 16000, 16000, 16000, 16000, 16000, 15999, 16000, 16000, 16000, 16000, 16000, 16000, 16000, 16000, 16000, 16000, 16000, 16000, 16000, 16000, 16000, 16000, 15998, 16000, 16000, 16000, 16000, 16000, 16000, 16000, 16000, 16000, 16000, 16000, 16000, 16000, 16000, 16000, 16000, 15999, 16000, 16000, 16000, 16000, 16000, 16000, 16000, 16000, 16000, 16000, 16000, 16000, 16000, 16000, 16000, 16000, 15998, 16000, 16000, 16000, 16000, 16000, 16000, 16000, 16000, 16000, 16000, 16000, 16000, 16000, 16000, 16000, 16000, 15998, 16000, 16000, 16000, 16000, 16000, 16000, 16000, 16000, 16000, 16000, 16000, 16000, 16000, 16000, 16000, 16000, 15999, 16000, 16000, 16000, 16000, 16000, 16000, 16000, 16000, 16000, 16000, 16000, 16000, 16000, 16000, 16000, 16000, 16000, 15999, 16000, 16000, 16000, 16000, 16000, 16000, 16000, 16000, 16000, 16000, 16000, 16000, 16000, 16000, 16000, 16000, 15999, 16000, 16000, 16000, 16000, 16000, 16000, 16000, 16000, 16000, 16000, 16000, 16000, 16000, 16000, 16000, 16000, 15999, 16000, 16000, 16000, 16000, 16000, 16000, 16000, 16000, 16000, 16000, 16000, 16000, 16000, 16000, 16000, 16000, 15998, 16000, 16000, 16000, 16000, 16000, 16000, 16000, 16000, 16000, 16000, 16000, 16000, 16000, 16000, 16000, 16000, 15999, 16000, 16000, 16000, 16000, 16000, 16000, 16000, 16000, 16000, 16000, 16000, 16000, 16000, 16000, 16000, 16000, 15998, 16000, 16000, 16000, 16000, 16000, 16000, 16000, 16000, 16000, 16000, 16000, 16000, 16000, 16000, 16000, 16000, 15999, 16000, 16000, 16000, 16000, 16000, 16000, 16000, 16000, 16000, 16000, 16000, 16000, 16000, 16000, 16000, 16000, 16000, 15999, 16000, 16000, 16000, 16000, 16000, 16000, 16000, 16000, 16000, 16000, 16000, 16000, 16000, 16000, 16000, 16000, 15999, 16000, 16000, 16000, 16000, 16000, 16000, 16000, 16000, 16000, 16000, 16000, 16000, 16000, 16000, 16000, 16000, 15999, 16000, 16000, 16000, 16000, 16000, 16000, 16000, 16000, 16000, 16000, 16000, 16000, 16000, 16000, 16000, 16000, 15998, 16000, 16000, 16000, 16000, 16000, 16000, 16000, 16000, 16000, 16000, 16000, 16000, 16000, 16000, 16000, 16000, 16000, 15999, 16000, 16000, 16000, 16000, 16000, 16000, 16000, 16000, 16000, 16000, 16000, 16000, 16000, 16000, 16000, 16000, 15999, 16000, 16000, 16000, 16000, 16000, 16000, 16000, 16000, 16000, 16000, 16000, 16000, 16000, 16000, 16000, 16000, 15999, 16000, 16000, 16000, 16000, 16000, 16000, 16000, 16000, 16000, 16000, 16000, 16000, 16000, 16000, 16000, 16000, 15998, 16000, 16000, 16000, 16000, 16000, 16000, 16000, 16000, 16000, 16000, 16000, 16000, 16000, 16000, 16000, 16000, 15999, 16000, 16000, 16000, 16000, 16000, 16000, 16000, 16000, 16000, 16000, 16000, 16000, 16000, 16000, 16000, 16000, 15998, 16000, 16000, 16000, 16000, 16000, 16000, 16000, 16000, 16000, 16000, 16000, 16000, 16000, 16000, 16000, 16000, 16000, 15998, 16000, 16000, 16000, 16000, 16000, 16000, 16000, 16000, 16000, 16000, 16000, 16000, 16000, 16000, 16000, 16000, 15998, 16000, 16000, 16000, 16000, 16000, 16000, 16000, 16000, 16000, 16000, 16000, 16000, 16000, 16000, 16000, 16000, 15999, 16000, 16000, 16000, 16000, 16000, 16000, 16000, 16000, 16000, 16000, 16000, 16000, 16000, 16000, 16000, 16000, 15998, 16000, 16000, 16000, 16000, 16000, 16000, 16000, 16000, 16000, 16000, 16000, 16000, 16000, 16000, 16000, 16000, 15998, 16000, 16000, 16000, 16000, 16000, 16000, 16000, 16000, 16000, 16000, 16000, 16000, 16000, 16000, 16000, 16000, 15999, 16000, 16000, 16000, 16000, 16000, 16000, 16000, 16000, 16000, 16000, 16000, 16000, 16000, 16000, 16000, 16000, 15998, 16000, 16000, 16000, 16000, 16000, 16000, 16000, 16000, 16000, 16000, 16000, 16000, 16000, 16000, 16000, 16000, 16000, 16000, 16000, 16000, 16000, 16000, 16000, 16000, 16000, 15998, 16000, 16000, 16000, 16000, 16000, 16000, 16000, 16000, 16000, 16000, 16000, 16000, 16000, 16000, 16000, 15998, 16000, 16000, 16000, 16000, 16000, 16000, 16000, 16000, 16000, 16000, 16000, 16000, 16000, 16000, 16000, 16000, 15998, 16000, 16000, 16000, 16000, 16000, 16000, 16000, 16000, 16000, 16000, 16000, 16000, 16000, 16000, 16000, 16000, 15998, 16000, 16000, 16000, 16000, 16000, 16000, 16000, 16000, 16000, 16000, 16000, 16000, 16000, 16000, 16000, 16000, 15998, 16000, 16000, 16000, 16000, 16000, 16000, 16000, 16000, 16000, 16000, 16000, 16000, 16000, 16000, 16000, 16000, 16000, 15999, 16000, 16000, 16000, 16000, 16000, 16000, 16000, 16000, 16000, 16000, 16000, 16000, 16000, 16000, 16000, 16000, 15998, 16000, 16000, 16000, 16000, 16000, 16000, 16000, 16000, 16000, 16000, 16000, 16000, 16000, 16000, 16000, 16000, 15999, 16000, 16000, 16000, 16000, 16000, 16000, 16000, 16000, 16000, 16000, 16000, 16000, 16000, 16000, 16000, 16000, 15999, 16000, 16000, 16000, 16000, 16000, 16000, 16000, 16000, 16000, 16000, 16000, 16000, 16000, 16000, 16000, 16000, 15998, 16000, 16000, 16000, 16000, 16000, 16000, 16000, 16000, 16000, 16000, 16000, 16000, 16000, 16000, 16000, 16000, 15998, 16000, 16000, 16000, 16000, 16000, 16000, 16000, 16000, 16000, 16000, 16000, 16000, 16000, 16000, 16000, 16000, 15998, 16000, 16000, 16000, 16000, 16000, 16000, 16000, 16000, 16000, 16000, 16000, 16000, 16000, 16000, 16000, 16000, 16000, 15998, 16000, 16000, 16000, 16000, 16000, 16000, 16000, 16000, 16000, 16000, 16000, 16000, 16000, 16000, 16000, 16000, 15999, 16000, 16000, 16000, 16000, 16000, 16000, 16000, 16000, 16000, 16000, 16000, 16000, 16000, 16000, 16000, 16000, 15999, 16000, 16000, 16000, 16000, 16000, 16000, 16000, 16000, 16000, 16000, 16000, 16000, 16000, 16000, 16000, 16000, 15998, 16000, 16000, 16000, 16000, 16000, 16000, 16000, 16000, 16000, 16000, 16000, 16000, 16000, 16000, 16000, 16000, 15998, 16000, 16000, 16000, 16000, 16000, 16000, 16000, 16000, 16000, 16000, 16000, 16000, 16000, 16000, 16000, 16000, 15998, 16000, 16000, 16000, 16000, 16000, 16000, 16000, 16000, 16000, 16000, 16000, 16000, 16000, 16000, 16000, 16000, 15999, 16000, 16000, 16000, 16000, 16000, 16000, 16000, 16000, 16000, 16000, 16000, 16000, 16000, 16000, 16000, 16000, 15999, 16000, 16000, 16000, 16000, 16000, 16000, 16000, 16000]\n"
     ]
    },
    {
     "name": "stderr",
     "output_type": "stream",
     "text": [
      "\n"
     ]
    }
   ],
   "source": [
    "# Print audio lengths\n",
    "# print(\"Train Clean Audio Lengths:\", get_audio_length(train_clean_paths))\n",
    "# print(\"Train Noisy Audio Lengths:\", get_audio_length(train_noisy_paths))\n",
    "print(\"Test Clean Audio Lengths:\", get_audio_length(test_clean_paths))\n",
    "# print(\"Test Noisy Audio Lengths:\", get_audio_length(test_noisy_paths))"
   ]
  },
  {
   "cell_type": "code",
   "execution_count": 38,
   "id": "df61c9efa7e838ca",
   "metadata": {
    "ExecuteTime": {
     "end_time": "2024-04-22T22:06:00.758900Z",
     "start_time": "2024-04-22T22:06:00.644149Z"
    },
    "collapsed": false
   },
   "outputs": [
    {
     "data": {
      "text/html": [
       "<pre style=\"white-space:pre;overflow-x:auto;line-height:normal;font-family:Menlo,'DejaVu Sans Mono',consolas,'Courier New',monospace\"><span style=\"font-weight: bold\">Model: \"functional_9\"</span>\n",
       "</pre>\n"
      ],
      "text/plain": [
       "\u001B[1mModel: \"functional_9\"\u001B[0m\n"
      ]
     },
     "metadata": {},
     "output_type": "display_data"
    },
    {
     "data": {
      "text/html": [
       "<pre style=\"white-space:pre;overflow-x:auto;line-height:normal;font-family:Menlo,'DejaVu Sans Mono',consolas,'Courier New',monospace\">┏━━━━━━━━━━━━━━━━━━━━━┳━━━━━━━━━━━━━━━━━━━┳━━━━━━━━━━━━┳━━━━━━━━━━━━━━━━━━━┓\n",
       "┃<span style=\"font-weight: bold\"> Layer (type)        </span>┃<span style=\"font-weight: bold\"> Output Shape      </span>┃<span style=\"font-weight: bold\">    Param # </span>┃<span style=\"font-weight: bold\"> Connected to      </span>┃\n",
       "┡━━━━━━━━━━━━━━━━━━━━━╇━━━━━━━━━━━━━━━━━━━╇━━━━━━━━━━━━╇━━━━━━━━━━━━━━━━━━━┩\n",
       "│ input_layer_4       │ (<span style=\"color: #00d7ff; text-decoration-color: #00d7ff\">None</span>, <span style=\"color: #00af00; text-decoration-color: #00af00\">16000</span>, <span style=\"color: #00af00; text-decoration-color: #00af00\">1</span>)  │          <span style=\"color: #00af00; text-decoration-color: #00af00\">0</span> │ -                 │\n",
       "│ (<span style=\"color: #0087ff; text-decoration-color: #0087ff\">InputLayer</span>)        │                   │            │                   │\n",
       "├─────────────────────┼───────────────────┼────────────┼───────────────────┤\n",
       "│ conv1d_20 (<span style=\"color: #0087ff; text-decoration-color: #0087ff\">Conv1D</span>)  │ (<span style=\"color: #00d7ff; text-decoration-color: #00d7ff\">None</span>, <span style=\"color: #00af00; text-decoration-color: #00af00\">8000</span>, <span style=\"color: #00af00; text-decoration-color: #00af00\">2</span>)   │         <span style=\"color: #00af00; text-decoration-color: #00af00\">66</span> │ input_layer_4[<span style=\"color: #00af00; text-decoration-color: #00af00\">0</span>]… │\n",
       "├─────────────────────┼───────────────────┼────────────┼───────────────────┤\n",
       "│ conv1d_21 (<span style=\"color: #0087ff; text-decoration-color: #0087ff\">Conv1D</span>)  │ (<span style=\"color: #00d7ff; text-decoration-color: #00d7ff\">None</span>, <span style=\"color: #00af00; text-decoration-color: #00af00\">4000</span>, <span style=\"color: #00af00; text-decoration-color: #00af00\">4</span>)   │        <span style=\"color: #00af00; text-decoration-color: #00af00\">260</span> │ conv1d_20[<span style=\"color: #00af00; text-decoration-color: #00af00\">0</span>][<span style=\"color: #00af00; text-decoration-color: #00af00\">0</span>]   │\n",
       "├─────────────────────┼───────────────────┼────────────┼───────────────────┤\n",
       "│ conv1d_22 (<span style=\"color: #0087ff; text-decoration-color: #0087ff\">Conv1D</span>)  │ (<span style=\"color: #00d7ff; text-decoration-color: #00d7ff\">None</span>, <span style=\"color: #00af00; text-decoration-color: #00af00\">2000</span>, <span style=\"color: #00af00; text-decoration-color: #00af00\">8</span>)   │      <span style=\"color: #00af00; text-decoration-color: #00af00\">1,032</span> │ conv1d_21[<span style=\"color: #00af00; text-decoration-color: #00af00\">0</span>][<span style=\"color: #00af00; text-decoration-color: #00af00\">0</span>]   │\n",
       "├─────────────────────┼───────────────────┼────────────┼───────────────────┤\n",
       "│ conv1d_23 (<span style=\"color: #0087ff; text-decoration-color: #0087ff\">Conv1D</span>)  │ (<span style=\"color: #00d7ff; text-decoration-color: #00d7ff\">None</span>, <span style=\"color: #00af00; text-decoration-color: #00af00\">1000</span>, <span style=\"color: #00af00; text-decoration-color: #00af00\">16</span>)  │      <span style=\"color: #00af00; text-decoration-color: #00af00\">4,112</span> │ conv1d_22[<span style=\"color: #00af00; text-decoration-color: #00af00\">0</span>][<span style=\"color: #00af00; text-decoration-color: #00af00\">0</span>]   │\n",
       "├─────────────────────┼───────────────────┼────────────┼───────────────────┤\n",
       "│ conv1d_24 (<span style=\"color: #0087ff; text-decoration-color: #0087ff\">Conv1D</span>)  │ (<span style=\"color: #00d7ff; text-decoration-color: #00d7ff\">None</span>, <span style=\"color: #00af00; text-decoration-color: #00af00\">500</span>, <span style=\"color: #00af00; text-decoration-color: #00af00\">32</span>)   │     <span style=\"color: #00af00; text-decoration-color: #00af00\">16,416</span> │ conv1d_23[<span style=\"color: #00af00; text-decoration-color: #00af00\">0</span>][<span style=\"color: #00af00; text-decoration-color: #00af00\">0</span>]   │\n",
       "├─────────────────────┼───────────────────┼────────────┼───────────────────┤\n",
       "│ conv1d_transpose_28 │ (<span style=\"color: #00d7ff; text-decoration-color: #00d7ff\">None</span>, <span style=\"color: #00af00; text-decoration-color: #00af00\">500</span>, <span style=\"color: #00af00; text-decoration-color: #00af00\">32</span>)   │     <span style=\"color: #00af00; text-decoration-color: #00af00\">32,800</span> │ conv1d_24[<span style=\"color: #00af00; text-decoration-color: #00af00\">0</span>][<span style=\"color: #00af00; text-decoration-color: #00af00\">0</span>]   │\n",
       "│ (<span style=\"color: #0087ff; text-decoration-color: #0087ff\">Conv1DTranspose</span>)   │                   │            │                   │\n",
       "├─────────────────────┼───────────────────┼────────────┼───────────────────┤\n",
       "│ concatenate_24      │ (<span style=\"color: #00d7ff; text-decoration-color: #00d7ff\">None</span>, <span style=\"color: #00af00; text-decoration-color: #00af00\">500</span>, <span style=\"color: #00af00; text-decoration-color: #00af00\">64</span>)   │          <span style=\"color: #00af00; text-decoration-color: #00af00\">0</span> │ conv1d_24[<span style=\"color: #00af00; text-decoration-color: #00af00\">0</span>][<span style=\"color: #00af00; text-decoration-color: #00af00\">0</span>],  │\n",
       "│ (<span style=\"color: #0087ff; text-decoration-color: #0087ff\">Concatenate</span>)       │                   │            │ conv1d_transpose… │\n",
       "├─────────────────────┼───────────────────┼────────────┼───────────────────┤\n",
       "│ conv1d_transpose_29 │ (<span style=\"color: #00d7ff; text-decoration-color: #00d7ff\">None</span>, <span style=\"color: #00af00; text-decoration-color: #00af00\">1000</span>, <span style=\"color: #00af00; text-decoration-color: #00af00\">16</span>)  │     <span style=\"color: #00af00; text-decoration-color: #00af00\">32,784</span> │ concatenate_24[<span style=\"color: #00af00; text-decoration-color: #00af00\">0</span>… │\n",
       "│ (<span style=\"color: #0087ff; text-decoration-color: #0087ff\">Conv1DTranspose</span>)   │                   │            │                   │\n",
       "├─────────────────────┼───────────────────┼────────────┼───────────────────┤\n",
       "│ concatenate_25      │ (<span style=\"color: #00d7ff; text-decoration-color: #00d7ff\">None</span>, <span style=\"color: #00af00; text-decoration-color: #00af00\">1000</span>, <span style=\"color: #00af00; text-decoration-color: #00af00\">32</span>)  │          <span style=\"color: #00af00; text-decoration-color: #00af00\">0</span> │ conv1d_23[<span style=\"color: #00af00; text-decoration-color: #00af00\">0</span>][<span style=\"color: #00af00; text-decoration-color: #00af00\">0</span>],  │\n",
       "│ (<span style=\"color: #0087ff; text-decoration-color: #0087ff\">Concatenate</span>)       │                   │            │ conv1d_transpose… │\n",
       "├─────────────────────┼───────────────────┼────────────┼───────────────────┤\n",
       "│ conv1d_transpose_30 │ (<span style=\"color: #00d7ff; text-decoration-color: #00d7ff\">None</span>, <span style=\"color: #00af00; text-decoration-color: #00af00\">2000</span>, <span style=\"color: #00af00; text-decoration-color: #00af00\">8</span>)   │      <span style=\"color: #00af00; text-decoration-color: #00af00\">8,200</span> │ concatenate_25[<span style=\"color: #00af00; text-decoration-color: #00af00\">0</span>… │\n",
       "│ (<span style=\"color: #0087ff; text-decoration-color: #0087ff\">Conv1DTranspose</span>)   │                   │            │                   │\n",
       "├─────────────────────┼───────────────────┼────────────┼───────────────────┤\n",
       "│ concatenate_26      │ (<span style=\"color: #00d7ff; text-decoration-color: #00d7ff\">None</span>, <span style=\"color: #00af00; text-decoration-color: #00af00\">2000</span>, <span style=\"color: #00af00; text-decoration-color: #00af00\">16</span>)  │          <span style=\"color: #00af00; text-decoration-color: #00af00\">0</span> │ conv1d_22[<span style=\"color: #00af00; text-decoration-color: #00af00\">0</span>][<span style=\"color: #00af00; text-decoration-color: #00af00\">0</span>],  │\n",
       "│ (<span style=\"color: #0087ff; text-decoration-color: #0087ff\">Concatenate</span>)       │                   │            │ conv1d_transpose… │\n",
       "├─────────────────────┼───────────────────┼────────────┼───────────────────┤\n",
       "│ conv1d_transpose_31 │ (<span style=\"color: #00d7ff; text-decoration-color: #00d7ff\">None</span>, <span style=\"color: #00af00; text-decoration-color: #00af00\">4000</span>, <span style=\"color: #00af00; text-decoration-color: #00af00\">4</span>)   │      <span style=\"color: #00af00; text-decoration-color: #00af00\">2,052</span> │ concatenate_26[<span style=\"color: #00af00; text-decoration-color: #00af00\">0</span>… │\n",
       "│ (<span style=\"color: #0087ff; text-decoration-color: #0087ff\">Conv1DTranspose</span>)   │                   │            │                   │\n",
       "├─────────────────────┼───────────────────┼────────────┼───────────────────┤\n",
       "│ concatenate_27      │ (<span style=\"color: #00d7ff; text-decoration-color: #00d7ff\">None</span>, <span style=\"color: #00af00; text-decoration-color: #00af00\">4000</span>, <span style=\"color: #00af00; text-decoration-color: #00af00\">8</span>)   │          <span style=\"color: #00af00; text-decoration-color: #00af00\">0</span> │ conv1d_21[<span style=\"color: #00af00; text-decoration-color: #00af00\">0</span>][<span style=\"color: #00af00; text-decoration-color: #00af00\">0</span>],  │\n",
       "│ (<span style=\"color: #0087ff; text-decoration-color: #0087ff\">Concatenate</span>)       │                   │            │ conv1d_transpose… │\n",
       "├─────────────────────┼───────────────────┼────────────┼───────────────────┤\n",
       "│ conv1d_transpose_32 │ (<span style=\"color: #00d7ff; text-decoration-color: #00d7ff\">None</span>, <span style=\"color: #00af00; text-decoration-color: #00af00\">8000</span>, <span style=\"color: #00af00; text-decoration-color: #00af00\">2</span>)   │        <span style=\"color: #00af00; text-decoration-color: #00af00\">514</span> │ concatenate_27[<span style=\"color: #00af00; text-decoration-color: #00af00\">0</span>… │\n",
       "│ (<span style=\"color: #0087ff; text-decoration-color: #0087ff\">Conv1DTranspose</span>)   │                   │            │                   │\n",
       "├─────────────────────┼───────────────────┼────────────┼───────────────────┤\n",
       "│ concatenate_28      │ (<span style=\"color: #00d7ff; text-decoration-color: #00d7ff\">None</span>, <span style=\"color: #00af00; text-decoration-color: #00af00\">8000</span>, <span style=\"color: #00af00; text-decoration-color: #00af00\">4</span>)   │          <span style=\"color: #00af00; text-decoration-color: #00af00\">0</span> │ conv1d_20[<span style=\"color: #00af00; text-decoration-color: #00af00\">0</span>][<span style=\"color: #00af00; text-decoration-color: #00af00\">0</span>],  │\n",
       "│ (<span style=\"color: #0087ff; text-decoration-color: #0087ff\">Concatenate</span>)       │                   │            │ conv1d_transpose… │\n",
       "├─────────────────────┼───────────────────┼────────────┼───────────────────┤\n",
       "│ conv1d_transpose_33 │ (<span style=\"color: #00d7ff; text-decoration-color: #00d7ff\">None</span>, <span style=\"color: #00af00; text-decoration-color: #00af00\">16000</span>, <span style=\"color: #00af00; text-decoration-color: #00af00\">1</span>)  │        <span style=\"color: #00af00; text-decoration-color: #00af00\">129</span> │ concatenate_28[<span style=\"color: #00af00; text-decoration-color: #00af00\">0</span>… │\n",
       "│ (<span style=\"color: #0087ff; text-decoration-color: #0087ff\">Conv1DTranspose</span>)   │                   │            │                   │\n",
       "├─────────────────────┼───────────────────┼────────────┼───────────────────┤\n",
       "│ concatenate_29      │ (<span style=\"color: #00d7ff; text-decoration-color: #00d7ff\">None</span>, <span style=\"color: #00af00; text-decoration-color: #00af00\">16000</span>, <span style=\"color: #00af00; text-decoration-color: #00af00\">2</span>)  │          <span style=\"color: #00af00; text-decoration-color: #00af00\">0</span> │ input_layer_4[<span style=\"color: #00af00; text-decoration-color: #00af00\">0</span>]… │\n",
       "│ (<span style=\"color: #0087ff; text-decoration-color: #0087ff\">Concatenate</span>)       │                   │            │ conv1d_transpose… │\n",
       "├─────────────────────┼───────────────────┼────────────┼───────────────────┤\n",
       "│ conv1d_transpose_34 │ (<span style=\"color: #00d7ff; text-decoration-color: #00d7ff\">None</span>, <span style=\"color: #00af00; text-decoration-color: #00af00\">16000</span>, <span style=\"color: #00af00; text-decoration-color: #00af00\">1</span>)  │         <span style=\"color: #00af00; text-decoration-color: #00af00\">65</span> │ concatenate_29[<span style=\"color: #00af00; text-decoration-color: #00af00\">0</span>… │\n",
       "│ (<span style=\"color: #0087ff; text-decoration-color: #0087ff\">Conv1DTranspose</span>)   │                   │            │                   │\n",
       "└─────────────────────┴───────────────────┴────────────┴───────────────────┘\n",
       "</pre>\n"
      ],
      "text/plain": [
       "┏━━━━━━━━━━━━━━━━━━━━━┳━━━━━━━━━━━━━━━━━━━┳━━━━━━━━━━━━┳━━━━━━━━━━━━━━━━━━━┓\n",
       "┃\u001B[1m \u001B[0m\u001B[1mLayer (type)       \u001B[0m\u001B[1m \u001B[0m┃\u001B[1m \u001B[0m\u001B[1mOutput Shape     \u001B[0m\u001B[1m \u001B[0m┃\u001B[1m \u001B[0m\u001B[1m   Param #\u001B[0m\u001B[1m \u001B[0m┃\u001B[1m \u001B[0m\u001B[1mConnected to     \u001B[0m\u001B[1m \u001B[0m┃\n",
       "┡━━━━━━━━━━━━━━━━━━━━━╇━━━━━━━━━━━━━━━━━━━╇━━━━━━━━━━━━╇━━━━━━━━━━━━━━━━━━━┩\n",
       "│ input_layer_4       │ (\u001B[38;5;45mNone\u001B[0m, \u001B[38;5;34m16000\u001B[0m, \u001B[38;5;34m1\u001B[0m)  │          \u001B[38;5;34m0\u001B[0m │ -                 │\n",
       "│ (\u001B[38;5;33mInputLayer\u001B[0m)        │                   │            │                   │\n",
       "├─────────────────────┼───────────────────┼────────────┼───────────────────┤\n",
       "│ conv1d_20 (\u001B[38;5;33mConv1D\u001B[0m)  │ (\u001B[38;5;45mNone\u001B[0m, \u001B[38;5;34m8000\u001B[0m, \u001B[38;5;34m2\u001B[0m)   │         \u001B[38;5;34m66\u001B[0m │ input_layer_4[\u001B[38;5;34m0\u001B[0m]… │\n",
       "├─────────────────────┼───────────────────┼────────────┼───────────────────┤\n",
       "│ conv1d_21 (\u001B[38;5;33mConv1D\u001B[0m)  │ (\u001B[38;5;45mNone\u001B[0m, \u001B[38;5;34m4000\u001B[0m, \u001B[38;5;34m4\u001B[0m)   │        \u001B[38;5;34m260\u001B[0m │ conv1d_20[\u001B[38;5;34m0\u001B[0m][\u001B[38;5;34m0\u001B[0m]   │\n",
       "├─────────────────────┼───────────────────┼────────────┼───────────────────┤\n",
       "│ conv1d_22 (\u001B[38;5;33mConv1D\u001B[0m)  │ (\u001B[38;5;45mNone\u001B[0m, \u001B[38;5;34m2000\u001B[0m, \u001B[38;5;34m8\u001B[0m)   │      \u001B[38;5;34m1,032\u001B[0m │ conv1d_21[\u001B[38;5;34m0\u001B[0m][\u001B[38;5;34m0\u001B[0m]   │\n",
       "├─────────────────────┼───────────────────┼────────────┼───────────────────┤\n",
       "│ conv1d_23 (\u001B[38;5;33mConv1D\u001B[0m)  │ (\u001B[38;5;45mNone\u001B[0m, \u001B[38;5;34m1000\u001B[0m, \u001B[38;5;34m16\u001B[0m)  │      \u001B[38;5;34m4,112\u001B[0m │ conv1d_22[\u001B[38;5;34m0\u001B[0m][\u001B[38;5;34m0\u001B[0m]   │\n",
       "├─────────────────────┼───────────────────┼────────────┼───────────────────┤\n",
       "│ conv1d_24 (\u001B[38;5;33mConv1D\u001B[0m)  │ (\u001B[38;5;45mNone\u001B[0m, \u001B[38;5;34m500\u001B[0m, \u001B[38;5;34m32\u001B[0m)   │     \u001B[38;5;34m16,416\u001B[0m │ conv1d_23[\u001B[38;5;34m0\u001B[0m][\u001B[38;5;34m0\u001B[0m]   │\n",
       "├─────────────────────┼───────────────────┼────────────┼───────────────────┤\n",
       "│ conv1d_transpose_28 │ (\u001B[38;5;45mNone\u001B[0m, \u001B[38;5;34m500\u001B[0m, \u001B[38;5;34m32\u001B[0m)   │     \u001B[38;5;34m32,800\u001B[0m │ conv1d_24[\u001B[38;5;34m0\u001B[0m][\u001B[38;5;34m0\u001B[0m]   │\n",
       "│ (\u001B[38;5;33mConv1DTranspose\u001B[0m)   │                   │            │                   │\n",
       "├─────────────────────┼───────────────────┼────────────┼───────────────────┤\n",
       "│ concatenate_24      │ (\u001B[38;5;45mNone\u001B[0m, \u001B[38;5;34m500\u001B[0m, \u001B[38;5;34m64\u001B[0m)   │          \u001B[38;5;34m0\u001B[0m │ conv1d_24[\u001B[38;5;34m0\u001B[0m][\u001B[38;5;34m0\u001B[0m],  │\n",
       "│ (\u001B[38;5;33mConcatenate\u001B[0m)       │                   │            │ conv1d_transpose… │\n",
       "├─────────────────────┼───────────────────┼────────────┼───────────────────┤\n",
       "│ conv1d_transpose_29 │ (\u001B[38;5;45mNone\u001B[0m, \u001B[38;5;34m1000\u001B[0m, \u001B[38;5;34m16\u001B[0m)  │     \u001B[38;5;34m32,784\u001B[0m │ concatenate_24[\u001B[38;5;34m0\u001B[0m… │\n",
       "│ (\u001B[38;5;33mConv1DTranspose\u001B[0m)   │                   │            │                   │\n",
       "├─────────────────────┼───────────────────┼────────────┼───────────────────┤\n",
       "│ concatenate_25      │ (\u001B[38;5;45mNone\u001B[0m, \u001B[38;5;34m1000\u001B[0m, \u001B[38;5;34m32\u001B[0m)  │          \u001B[38;5;34m0\u001B[0m │ conv1d_23[\u001B[38;5;34m0\u001B[0m][\u001B[38;5;34m0\u001B[0m],  │\n",
       "│ (\u001B[38;5;33mConcatenate\u001B[0m)       │                   │            │ conv1d_transpose… │\n",
       "├─────────────────────┼───────────────────┼────────────┼───────────────────┤\n",
       "│ conv1d_transpose_30 │ (\u001B[38;5;45mNone\u001B[0m, \u001B[38;5;34m2000\u001B[0m, \u001B[38;5;34m8\u001B[0m)   │      \u001B[38;5;34m8,200\u001B[0m │ concatenate_25[\u001B[38;5;34m0\u001B[0m… │\n",
       "│ (\u001B[38;5;33mConv1DTranspose\u001B[0m)   │                   │            │                   │\n",
       "├─────────────────────┼───────────────────┼────────────┼───────────────────┤\n",
       "│ concatenate_26      │ (\u001B[38;5;45mNone\u001B[0m, \u001B[38;5;34m2000\u001B[0m, \u001B[38;5;34m16\u001B[0m)  │          \u001B[38;5;34m0\u001B[0m │ conv1d_22[\u001B[38;5;34m0\u001B[0m][\u001B[38;5;34m0\u001B[0m],  │\n",
       "│ (\u001B[38;5;33mConcatenate\u001B[0m)       │                   │            │ conv1d_transpose… │\n",
       "├─────────────────────┼───────────────────┼────────────┼───────────────────┤\n",
       "│ conv1d_transpose_31 │ (\u001B[38;5;45mNone\u001B[0m, \u001B[38;5;34m4000\u001B[0m, \u001B[38;5;34m4\u001B[0m)   │      \u001B[38;5;34m2,052\u001B[0m │ concatenate_26[\u001B[38;5;34m0\u001B[0m… │\n",
       "│ (\u001B[38;5;33mConv1DTranspose\u001B[0m)   │                   │            │                   │\n",
       "├─────────────────────┼───────────────────┼────────────┼───────────────────┤\n",
       "│ concatenate_27      │ (\u001B[38;5;45mNone\u001B[0m, \u001B[38;5;34m4000\u001B[0m, \u001B[38;5;34m8\u001B[0m)   │          \u001B[38;5;34m0\u001B[0m │ conv1d_21[\u001B[38;5;34m0\u001B[0m][\u001B[38;5;34m0\u001B[0m],  │\n",
       "│ (\u001B[38;5;33mConcatenate\u001B[0m)       │                   │            │ conv1d_transpose… │\n",
       "├─────────────────────┼───────────────────┼────────────┼───────────────────┤\n",
       "│ conv1d_transpose_32 │ (\u001B[38;5;45mNone\u001B[0m, \u001B[38;5;34m8000\u001B[0m, \u001B[38;5;34m2\u001B[0m)   │        \u001B[38;5;34m514\u001B[0m │ concatenate_27[\u001B[38;5;34m0\u001B[0m… │\n",
       "│ (\u001B[38;5;33mConv1DTranspose\u001B[0m)   │                   │            │                   │\n",
       "├─────────────────────┼───────────────────┼────────────┼───────────────────┤\n",
       "│ concatenate_28      │ (\u001B[38;5;45mNone\u001B[0m, \u001B[38;5;34m8000\u001B[0m, \u001B[38;5;34m4\u001B[0m)   │          \u001B[38;5;34m0\u001B[0m │ conv1d_20[\u001B[38;5;34m0\u001B[0m][\u001B[38;5;34m0\u001B[0m],  │\n",
       "│ (\u001B[38;5;33mConcatenate\u001B[0m)       │                   │            │ conv1d_transpose… │\n",
       "├─────────────────────┼───────────────────┼────────────┼───────────────────┤\n",
       "│ conv1d_transpose_33 │ (\u001B[38;5;45mNone\u001B[0m, \u001B[38;5;34m16000\u001B[0m, \u001B[38;5;34m1\u001B[0m)  │        \u001B[38;5;34m129\u001B[0m │ concatenate_28[\u001B[38;5;34m0\u001B[0m… │\n",
       "│ (\u001B[38;5;33mConv1DTranspose\u001B[0m)   │                   │            │                   │\n",
       "├─────────────────────┼───────────────────┼────────────┼───────────────────┤\n",
       "│ concatenate_29      │ (\u001B[38;5;45mNone\u001B[0m, \u001B[38;5;34m16000\u001B[0m, \u001B[38;5;34m2\u001B[0m)  │          \u001B[38;5;34m0\u001B[0m │ input_layer_4[\u001B[38;5;34m0\u001B[0m]… │\n",
       "│ (\u001B[38;5;33mConcatenate\u001B[0m)       │                   │            │ conv1d_transpose… │\n",
       "├─────────────────────┼───────────────────┼────────────┼───────────────────┤\n",
       "│ conv1d_transpose_34 │ (\u001B[38;5;45mNone\u001B[0m, \u001B[38;5;34m16000\u001B[0m, \u001B[38;5;34m1\u001B[0m)  │         \u001B[38;5;34m65\u001B[0m │ concatenate_29[\u001B[38;5;34m0\u001B[0m… │\n",
       "│ (\u001B[38;5;33mConv1DTranspose\u001B[0m)   │                   │            │                   │\n",
       "└─────────────────────┴───────────────────┴────────────┴───────────────────┘\n"
      ]
     },
     "metadata": {},
     "output_type": "display_data"
    },
    {
     "data": {
      "text/html": [
       "<pre style=\"white-space:pre;overflow-x:auto;line-height:normal;font-family:Menlo,'DejaVu Sans Mono',consolas,'Courier New',monospace\"><span style=\"font-weight: bold\"> Total params: </span><span style=\"color: #00af00; text-decoration-color: #00af00\">98,430</span> (384.49 KB)\n",
       "</pre>\n"
      ],
      "text/plain": [
       "\u001B[1m Total params: \u001B[0m\u001B[38;5;34m98,430\u001B[0m (384.49 KB)\n"
      ]
     },
     "metadata": {},
     "output_type": "display_data"
    },
    {
     "data": {
      "text/html": [
       "<pre style=\"white-space:pre;overflow-x:auto;line-height:normal;font-family:Menlo,'DejaVu Sans Mono',consolas,'Courier New',monospace\"><span style=\"font-weight: bold\"> Trainable params: </span><span style=\"color: #00af00; text-decoration-color: #00af00\">98,430</span> (384.49 KB)\n",
       "</pre>\n"
      ],
      "text/plain": [
       "\u001B[1m Trainable params: \u001B[0m\u001B[38;5;34m98,430\u001B[0m (384.49 KB)\n"
      ]
     },
     "metadata": {},
     "output_type": "display_data"
    },
    {
     "data": {
      "text/html": [
       "<pre style=\"white-space:pre;overflow-x:auto;line-height:normal;font-family:Menlo,'DejaVu Sans Mono',consolas,'Courier New',monospace\"><span style=\"font-weight: bold\"> Non-trainable params: </span><span style=\"color: #00af00; text-decoration-color: #00af00\">0</span> (0.00 B)\n",
       "</pre>\n"
      ],
      "text/plain": [
       "\u001B[1m Non-trainable params: \u001B[0m\u001B[38;5;34m0\u001B[0m (0.00 B)\n"
      ]
     },
     "metadata": {},
     "output_type": "display_data"
    }
   ],
   "source": [
    "# Define the model\n",
    "file_length = 16000  \n",
    "inp = Input(shape=(file_length, 1))\n",
    "c1 = Conv1D(2, 32, 2, 'same', activation='relu')(inp)\n",
    "c2 = Conv1D(4, 32, 2, 'same', activation='relu')(c1)\n",
    "c3 = Conv1D(8, 32, 2, 'same', activation='relu')(c2)\n",
    "c4 = Conv1D(16, 32, 2, 'same', activation='relu')(c3)\n",
    "c5 = Conv1D(32, 32, 2, 'same', activation='relu')(c4)\n",
    "\n",
    "dc1 = Conv1DTranspose(32, 32, 1, padding='same')(c5)\n",
    "conc = Concatenate()([c5, dc1])\n",
    "dc2 = Conv1DTranspose(16, 32, 2, padding='same')(conc)\n",
    "conc = Concatenate()([c4, dc2])\n",
    "dc3 = Conv1DTranspose(8, 32, 2, padding='same')(conc)\n",
    "conc = Concatenate()([c3, dc3])\n",
    "dc4 = Conv1DTranspose(4, 32, 2, padding='same')(conc)\n",
    "conc = Concatenate()([c2, dc4])\n",
    "dc5 = Conv1DTranspose(2, 32, 2, padding='same')(conc)\n",
    "conc = Concatenate()([c1, dc5])\n",
    "dc6 = Conv1DTranspose(1, 32, 2, padding='same')(conc)\n",
    "conc = Concatenate()([inp, dc6])\n",
    "dc7 = Conv1DTranspose(1, 32, 1, padding='same', activation='linear')(conc)\n",
    "\n",
    "model = tf.keras.models.Model(inp, dc7)\n",
    "model.summary()"
   ]
  },
  {
   "cell_type": "code",
   "execution_count": 39,
   "id": "50864f011faf39f2",
   "metadata": {
    "ExecuteTime": {
     "end_time": "2024-04-22T22:06:02.659054Z",
     "start_time": "2024-04-22T22:06:02.655109Z"
    },
    "collapsed": false
   },
   "outputs": [],
   "source": [
    "# tf.keras.utils.plot_model(model,show_shapes=True,show_layer_names=False)"
   ]
  },
  {
   "cell_type": "code",
   "execution_count": 40,
   "id": "2304f350125c669c",
   "metadata": {
    "ExecuteTime": {
     "end_time": "2024-04-22T23:26:05.385610Z",
     "start_time": "2024-04-22T22:06:26.150648Z"
    },
    "collapsed": false
   },
   "outputs": [
    {
     "name": "stdout",
     "output_type": "stream",
     "text": [
      "Epoch 1/20\n",
      "\u001B[1m5746/5746\u001B[0m \u001B[32m━━━━━━━━━━━━━━━━━━━━\u001B[0m\u001B[37m\u001B[0m \u001B[1m238s\u001B[0m 41ms/step - loss: 0.0252\n",
      "Epoch 2/20\n",
      "\u001B[1m5746/5746\u001B[0m \u001B[32m━━━━━━━━━━━━━━━━━━━━\u001B[0m\u001B[37m\u001B[0m \u001B[1m241s\u001B[0m 42ms/step - loss: 0.0239\n",
      "Epoch 3/20\n",
      "\u001B[1m5746/5746\u001B[0m \u001B[32m━━━━━━━━━━━━━━━━━━━━\u001B[0m\u001B[37m\u001B[0m \u001B[1m240s\u001B[0m 42ms/step - loss: 0.0232\n",
      "Epoch 4/20\n",
      "\u001B[1m5746/5746\u001B[0m \u001B[32m━━━━━━━━━━━━━━━━━━━━\u001B[0m\u001B[37m\u001B[0m \u001B[1m240s\u001B[0m 42ms/step - loss: 0.0228\n",
      "Epoch 5/20\n",
      "\u001B[1m5746/5746\u001B[0m \u001B[32m━━━━━━━━━━━━━━━━━━━━\u001B[0m\u001B[37m\u001B[0m \u001B[1m240s\u001B[0m 42ms/step - loss: 0.0229\n",
      "Epoch 6/20\n",
      "\u001B[1m5746/5746\u001B[0m \u001B[32m━━━━━━━━━━━━━━━━━━━━\u001B[0m\u001B[37m\u001B[0m \u001B[1m240s\u001B[0m 42ms/step - loss: 0.0227\n",
      "Epoch 7/20\n",
      "\u001B[1m5746/5746\u001B[0m \u001B[32m━━━━━━━━━━━━━━━━━━━━\u001B[0m\u001B[37m\u001B[0m \u001B[1m235s\u001B[0m 41ms/step - loss: 0.0223\n",
      "Epoch 8/20\n",
      "\u001B[1m5746/5746\u001B[0m \u001B[32m━━━━━━━━━━━━━━━━━━━━\u001B[0m\u001B[37m\u001B[0m \u001B[1m234s\u001B[0m 41ms/step - loss: 0.0219\n",
      "Epoch 9/20\n",
      "\u001B[1m5746/5746\u001B[0m \u001B[32m━━━━━━━━━━━━━━━━━━━━\u001B[0m\u001B[37m\u001B[0m \u001B[1m233s\u001B[0m 41ms/step - loss: 0.0221\n",
      "Epoch 10/20\n",
      "\u001B[1m5746/5746\u001B[0m \u001B[32m━━━━━━━━━━━━━━━━━━━━\u001B[0m\u001B[37m\u001B[0m \u001B[1m234s\u001B[0m 41ms/step - loss: 0.0220\n",
      "Epoch 11/20\n",
      "\u001B[1m5746/5746\u001B[0m \u001B[32m━━━━━━━━━━━━━━━━━━━━\u001B[0m\u001B[37m\u001B[0m \u001B[1m235s\u001B[0m 41ms/step - loss: 0.0236\n",
      "Epoch 12/20\n",
      "\u001B[1m5746/5746\u001B[0m \u001B[32m━━━━━━━━━━━━━━━━━━━━\u001B[0m\u001B[37m\u001B[0m \u001B[1m242s\u001B[0m 42ms/step - loss: 0.0213\n",
      "Epoch 13/20\n",
      "\u001B[1m5746/5746\u001B[0m \u001B[32m━━━━━━━━━━━━━━━━━━━━\u001B[0m\u001B[37m\u001B[0m \u001B[1m244s\u001B[0m 42ms/step - loss: 0.0218\n",
      "Epoch 14/20\n",
      "\u001B[1m5746/5746\u001B[0m \u001B[32m━━━━━━━━━━━━━━━━━━━━\u001B[0m\u001B[37m\u001B[0m \u001B[1m242s\u001B[0m 42ms/step - loss: 0.0233\n",
      "Epoch 15/20\n",
      "\u001B[1m5746/5746\u001B[0m \u001B[32m━━━━━━━━━━━━━━━━━━━━\u001B[0m\u001B[37m\u001B[0m \u001B[1m241s\u001B[0m 42ms/step - loss: 0.0211\n",
      "Epoch 16/20\n",
      "\u001B[1m5746/5746\u001B[0m \u001B[32m━━━━━━━━━━━━━━━━━━━━\u001B[0m\u001B[37m\u001B[0m \u001B[1m238s\u001B[0m 41ms/step - loss: 0.0211\n",
      "Epoch 17/20\n",
      "\u001B[1m5746/5746\u001B[0m \u001B[32m━━━━━━━━━━━━━━━━━━━━\u001B[0m\u001B[37m\u001B[0m \u001B[1m242s\u001B[0m 42ms/step - loss: 0.0213\n",
      "Epoch 18/20\n",
      "\u001B[1m5746/5746\u001B[0m \u001B[32m━━━━━━━━━━━━━━━━━━━━\u001B[0m\u001B[37m\u001B[0m \u001B[1m247s\u001B[0m 43ms/step - loss: 0.0217\n",
      "Epoch 19/20\n",
      "\u001B[1m5746/5746\u001B[0m \u001B[32m━━━━━━━━━━━━━━━━━━━━\u001B[0m\u001B[37m\u001B[0m \u001B[1m238s\u001B[0m 41ms/step - loss: 0.0221\n",
      "Epoch 20/20\n",
      "\u001B[1m5746/5746\u001B[0m \u001B[32m━━━━━━━━━━━━━━━━━━━━\u001B[0m\u001B[37m\u001B[0m \u001B[1m235s\u001B[0m 41ms/step - loss: 0.0217\n"
     ]
    }
   ],
   "source": [
    "model.compile(optimizer=tf.keras.optimizers.Adam(0.002),loss=tf.keras.losses.MeanAbsoluteError())\n",
    "history = model.fit(train_dataset,epochs=20)"
   ]
  },
  {
   "cell_type": "code",
   "outputs": [
    {
     "name": "stdout",
     "output_type": "stream",
     "text": [
      "\u001B[1m113/113\u001B[0m \u001B[32m━━━━━━━━━━━━━━━━━━━━\u001B[0m\u001B[37m\u001B[0m \u001B[1m3s\u001B[0m 17ms/step - loss: 0.0289\n"
     ]
    },
    {
     "data": {
      "text/plain": "0.029337504878640175"
     },
     "execution_count": 46,
     "metadata": {},
     "output_type": "execute_result"
    }
   ],
   "source": [
    "model.evaluate(test_dataset)"
   ],
   "metadata": {
    "collapsed": false,
    "ExecuteTime": {
     "end_time": "2024-04-26T02:03:45.090881Z",
     "start_time": "2024-04-26T02:03:42.194560Z"
    }
   },
   "id": "c5a7f7c2cd65dced",
   "execution_count": 46
  },
  {
   "cell_type": "markdown",
   "id": "bae24e6982111150",
   "metadata": {
    "collapsed": false
   },
   "source": [
    "# Trying to figure out whats going on with these npy files"
   ]
  },
  {
   "cell_type": "code",
   "execution_count": 44,
   "id": "ed4cf7b445c71029",
   "metadata": {
    "ExecuteTime": {
     "end_time": "2024-04-25T21:20:42.843463Z",
     "start_time": "2024-04-25T21:20:42.836650Z"
    },
    "collapsed": false
   },
   "outputs": [
    {
     "data": {
      "text/plain": [
       "array([[  5,   0, 255],\n",
       "       [  7,   0, 255],\n",
       "       [  7,   0, 255],\n",
       "       [  5,   0, 255],\n",
       "       [  1,   0, 255],\n",
       "       [  1,   0, 255],\n",
       "       [  3,   0, 255],\n",
       "       [  0,   0, 255],\n",
       "       [  3,   0, 255],\n",
       "       [  1,   0, 255],\n",
       "       [  2,   0, 255],\n",
       "       [  4,   0, 255],\n",
       "       [  1,   0, 255],\n",
       "       [  0,   0, 127],\n",
       "       [  2,   0, 127],\n",
       "       [  0,   0, 127],\n",
       "       [  4,   0, 127],\n",
       "       [  4,   0, 255],\n",
       "       [  4,   0, 255],\n",
       "       [  2,   0, 127],\n",
       "       [  3,   0, 255],\n",
       "       [  0,   0, 255],\n",
       "       [  3,   0, 255],\n",
       "       [  1,   0, 255],\n",
       "       [  3,   0, 127],\n",
       "       [  3,   0, 255],\n",
       "       [  3,   0, 127],\n",
       "       [  4,   0, 127],\n",
       "       [  4,   0, 127],\n",
       "       [  1,   0, 255],\n",
       "       [  7,   0, 127],\n",
       "       [  7,   0, 127],\n",
       "       [  3,   0, 255],\n",
       "       [  7,   0, 255],\n",
       "       [  2,   0, 255],\n",
       "       [  0,   0, 255],\n",
       "       [  6,   0, 127],\n",
       "       [  2,   0, 127],\n",
       "       [  1,   0, 127],\n",
       "       [  1,   0, 127],\n",
       "       [  1,   0, 127],\n",
       "       [  4,   0, 127],\n",
       "       [  2,   0, 127],\n",
       "       [  1,   0, 255],\n",
       "       [  5,   0, 255],\n",
       "       [ 12,   0, 255],\n",
       "       [ 55,   0, 127],\n",
       "       [  1,   0, 255],\n",
       "       [  3,   0, 255],\n",
       "       [  5,   0, 255],\n",
       "       [  0,   0, 255],\n",
       "       [ 11,   0, 127],\n",
       "       [  7,   0, 127],\n",
       "       [  3,   0, 127],\n",
       "       [  2,   0, 127],\n",
       "       [  7,   0, 255],\n",
       "       [  0,   0, 255],\n",
       "       [  4,   0, 127],\n",
       "       [  3,   0, 127],\n",
       "       [  2,   0, 127],\n",
       "       [  5,   0, 255],\n",
       "       [  4,   0, 255]], dtype=uint8)"
      ]
     },
     "execution_count": 44,
     "metadata": {},
     "output_type": "execute_result"
    }
   ],
   "source": [
    "tmpAudio = np.load(\"LibriSpeechNoiseData/LibriNoise_Train_Test_NPY/mat_test/19-198-0034.npy\")\n",
    "tmpAudio[0]"
   ]
  },
  {
   "cell_type": "markdown",
   "id": "b46e29ad317cfa4e",
   "metadata": {
    "collapsed": false
   },
   "source": [
    "# Functions from berisha that might be useful to reference later"
   ]
  },
  {
   "cell_type": "code",
   "execution_count": null,
   "id": "fa772fb2d3af291b",
   "metadata": {
    "collapsed": false
   },
   "outputs": [],
   "source": [
    "from sklearn.metrics import confusion_matrix\n",
    "def plot_loss_accuracy(history):\n",
    "    # Plot training and validation loss\n",
    "    plt.figure(figsize=(12, 6))\n",
    "\n",
    "    plt.subplot(1, 2, 1)\n",
    "    plt.plot(history.history['loss'], label='Training Loss')\n",
    "    plt.plot(history.history['val_loss'], label='Validation Loss')\n",
    "    plt.title('Training and Validation Loss')\n",
    "    plt.xlabel('Epoch')\n",
    "    plt.ylabel('Loss')\n",
    "    plt.legend()\n",
    "\n",
    "    # Plot training and validation accuracy\n",
    "    plt.subplot(1, 2, 2)\n",
    "    plt.plot(history.history['accuracy'], label='Training Accuracy')\n",
    "    plt.plot(history.history['val_accuracy'], label='Validation Accuracy')\n",
    "    plt.title('Training and Validation Accuracy')\n",
    "    plt.xlabel('Epoch')\n",
    "    plt.ylabel('Accuracy')\n",
    "    plt.legend()\n",
    "\n",
    "    plt.tight_layout()\n",
    "    plt.show()\n",
    "def visualize_predictions(model, x_test, y_test):\n",
    "    \n",
    "    # Predict labels for test set\n",
    "    y_pred = model.predict(x_test)\n",
    "    predicted_labels = np.argmax(y_pred, axis=1)\n",
    "\n",
    "    # Define class names for CIFAR-10 dataset\n",
    "    class_names = ['airplane', 'automobile', 'bird', 'cat', 'deer',\n",
    "                   'dog', 'frog', 'horse', 'ship', 'truck']\n",
    "\n",
    "    # Visualize some examples\n",
    "    plt.figure(figsize=(10, 10))\n",
    "    for i in range(25):\n",
    "        plt.subplot(5, 5, i + 1)\n",
    "        plt.imshow(x_test[i])\n",
    "        true_label = class_names[np.argmax(y_test[i])]\n",
    "        pred_label = class_names[predicted_labels[i]]\n",
    "        plt.title(f'True: {true_label}\\nPred: {pred_label}')\n",
    "        plt.axis('off')\n",
    "        plt.subplots_adjust(wspace=1)\n",
    "\n",
    "    plt.show()\n",
    "def plot_samples_per_class(y):\n",
    "\n",
    "    # Define class names for CIFAR-10 dataset\n",
    "    class_names = ['airplane', 'automobile', 'bird', 'cat', 'deer',\n",
    "                   'dog', 'frog', 'horse', 'ship', 'truck']\n",
    "\n",
    "    # Count the number of samples per class\n",
    "    class_counts = np.zeros(10, dtype=int)\n",
    "    for i in range(10):\n",
    "        class_counts[i] = np.sum(y == i)\n",
    "\n",
    "    # Plot the number of samples per class\n",
    "    plt.figure(figsize=(10, 5))\n",
    "    plt.bar(class_names, class_counts)\n",
    "    plt.xlabel('Class')\n",
    "    plt.ylabel('Number of Samples')\n",
    "    plt.xticks(rotation=45, ha='right')\n",
    "    plt.show()\n",
    "def plot_confusion_matrix(model, x_test,y_test, class_names):\n",
    "    # Predict labels for test set\n",
    "    y_pred = model.predict(x_test)\n",
    "    predicted_labels = np.argmax(y_pred, axis=1)\n",
    "    true_labels = np.argmax(y_test, axis=1)\n",
    "\n",
    "    # Compute confusion matrix\n",
    "    conf_matrix = confusion_matrix(true_labels, predicted_labels)\n",
    "\n",
    "    # Plot confusion matrix with numbers\n",
    "    plt.figure(figsize=(10, 8))\n",
    "    plt.imshow(conf_matrix, cmap=plt.cm.Blues)\n",
    "\n",
    "    # Add numbers to the plot\n",
    "    thresh = conf_matrix.max() / 2\n",
    "    for i in range(conf_matrix.shape[0]):\n",
    "        for j in range(conf_matrix.shape[1]):\n",
    "            plt.text(j, i, format(conf_matrix[i, j], 'd'),\n",
    "                     ha=\"center\", va=\"center\",\n",
    "                     color=\"white\" if conf_matrix[i, j] > thresh else \"black\")\n",
    "\n",
    "    plt.colorbar()\n",
    "    plt.title('Confusion Matrix')\n",
    "    plt.xlabel('Predicted Label')\n",
    "    plt.ylabel('True Label')\n",
    "    plt.xticks(np.arange(10), class_names, rotation=45)\n",
    "    plt.yticks(np.arange(10), class_names)\n",
    "    plt.tight_layout()\n",
    "    plt.show()\n",
    "    return conf_matrix\n",
    "def show_filters(model, layer_indx, num_filters):\n",
    "    # Get the weights of the first convolutional layer\n",
    "    filters = model.layers[layer_indx].get_weights()[0]\n",
    "\n",
    "    # Normalize filter values to range [0, 1] for visualization\n",
    "    filters = (filters - filters.min()) / (filters.max() - filters.min())\n",
    "\n",
    "    # Plot the filters\n",
    "    plt.figure(figsize=(8, 8))\n",
    "    for i in range(num_filters):  # assuming 32 filters in the first convolutional layer\n",
    "        plt.subplot(8, 4, i + 1)\n",
    "        plt.imshow(filters[:, :, :, i], cmap='gray')\n",
    "        plt.axis('off')\n",
    "    plt.show()\n",
    "# def show_feature_maps(model, x_test):\n",
    "#     # Extract feature maps from the first convolutional layer\n",
    "#     feature_map_model = Model(inputs=model.inputs, outputs=model.layers[0].output)\n",
    "#     feature_maps = feature_map_model.predict(x_test)\n",
    "# \n",
    "#     # Choose a random image index\n",
    "#     random_index = np.random.randint(0, len(x_test))\n",
    "# \n",
    "#     # Plot the original image\n",
    "#     plt.figure(figsize=(3, 3))\n",
    "#     plt.imshow(x_test[random_index])\n",
    "#     plt.title('Original Image')\n",
    "#     plt.axis('off')\n",
    "#     plt.show()\n",
    "# \n",
    "#     # Plot the feature maps\n",
    "#     plt.figure(figsize=(12, 6))\n",
    "#     num_feature_maps = feature_maps.shape[-1]\n",
    "#     for i in range(num_feature_maps):\n",
    "#         plt.subplot(4, 8, i + 1)\n",
    "#         plt.imshow(feature_maps[random_index, :, :, i])\n",
    "#         plt.axis('off')\n",
    "# \n",
    "#     plt.suptitle('Feature Maps')\n",
    "#     plt.show()"
   ]
  }
 ],
 "metadata": {
  "kernelspec": {
   "display_name": "Python 3 (ipykernel)",
   "language": "python",
   "name": "python3"
  },
  "language_info": {
   "codemirror_mode": {
    "name": "ipython",
    "version": 3
   },
   "file_extension": ".py",
   "mimetype": "text/x-python",
   "name": "python",
   "nbconvert_exporter": "python",
   "pygments_lexer": "ipython3",
   "version": "3.12.1"
  }
 },
 "nbformat": 4,
 "nbformat_minor": 5
}
